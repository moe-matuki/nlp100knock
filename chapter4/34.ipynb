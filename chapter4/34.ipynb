{
 "cells": [
  {
   "cell_type": "code",
   "execution_count": 1,
   "metadata": {
    "collapsed": true
   },
   "outputs": [],
   "source": [
    "#!/usr/bin/python\n",
    "# coding: UTF-8\n",
    "\n",
    "def readlinesFile(filename):\n",
    "\tf = open(filename)\n",
    "\tlines = f.readlines()\n",
    "\tf.close()\n",
    "\treturn(lines)\n",
    "\n",
    "def Morphol(filename):\n",
    "\timport re\n",
    "\tlines = readlinesFile(filename)\n",
    "\n",
    "\tresult = list() #1文づつのリストを格納\n",
    "\tmecabbinfos = list() #1単語づつの辞書型のリストを格納\n",
    "\tinfokeys = [\"surface\", \"pos\", \"pos1\", \"pos2\", \"pos3\", \"ctype\", \"cform\", \"base\", \"kana\", \"yomi\"]\n",
    "\tfor line in lines:\n",
    "\t\tline = line.strip(\"\\n\")\n",
    "\n",
    "\t\tif line == \"EOS\":\n",
    "\t\t\tif line != []:\n",
    "\t\t\t\tresult.append(mecabbinfos)\n",
    "\t\t\t\tmecabbinfos = list()\n",
    "\n",
    "\t\telse:\n",
    "\t\t\tinfovalues = re.split(\"\\t|,\", line)\n",
    "\t\t\tinfodicts = dict(zip(infokeys, infovalues)) #keyとvaluseを引っ付ける\n",
    "\t\t\t#getinfodicts = dict((k, v) for k, v in infodicts.items() if k in getinfos)\n",
    "\t\t\tmecabbinfos.append(infodicts)\n",
    "\n",
    "\treturn result\n",
    "\n",
    "def numPhrases(output):\n",
    "\tresult = list()\n",
    "\n",
    "\tfor dists in output:\n",
    "\t\tfor n in range(len(dists)-2):\n",
    "\t\t\tw0 = dists[n]\n",
    "\t\t\tw1 = dists[n + 1]\n",
    "\t\t\tw2 = dists[n + 2]\n",
    "\t\t\tif(w0[\"pos\"] == \"名詞\" and w1[\"pos\"] == \"助詞\" and w2[\"pos\"] == \"名詞\"):\n",
    "\t\t\t\tif(w0[\"base\"] != \"*\" and w1[\"base\"] == \"の\" and w2[\"base\"] != \"*\"):\n",
    "\t\t\t\t\tresult.append(w0[\"base\"] + w1[\"base\"] + w2[\"base\"])\n",
    "\n",
    "\treturn result\n"
   ]
  },
  {
   "cell_type": "code",
   "execution_count": 2,
   "metadata": {
    "collapsed": true
   },
   "outputs": [],
   "source": [
    "if __name__ == \"__main__\":\n",
    "\tfilename = \"neko.txt.mecab\" #読み込むファイル名\n",
    "\toutput = Morphol(filename) #1行毎に辞書型になったリストを返す\n",
    "\tnumPhrases = numPhrases(output) #名詞の名詞を全て抽出する\n"
   ]
  },
  {
   "cell_type": "code",
   "execution_count": 4,
   "metadata": {
    "collapsed": false
   },
   "outputs": [
    {
     "name": "stdout",
     "output_type": "stream",
     "text": [
      "�\n",
      "�\n",
      "�\n",
      "�\n",
      "�\n",
      "�\n",
      "�\n",
      "�\n",
      "�\n"
     ]
    }
   ],
   "source": [
    "for i in numPhrases[1]:\n",
    "    print(i)"
   ]
  },
  {
   "cell_type": "code",
   "execution_count": null,
   "metadata": {
    "collapsed": true
   },
   "outputs": [],
   "source": []
  }
 ],
 "metadata": {
  "kernelspec": {
   "display_name": "Python 2",
   "language": "python",
   "name": "python2"
  },
  "language_info": {
   "codemirror_mode": {
    "name": "ipython",
    "version": 2
   },
   "file_extension": ".py",
   "mimetype": "text/x-python",
   "name": "python",
   "nbconvert_exporter": "python",
   "pygments_lexer": "ipython2",
   "version": "2.7.10"
  }
 },
 "nbformat": 4,
 "nbformat_minor": 0
}
